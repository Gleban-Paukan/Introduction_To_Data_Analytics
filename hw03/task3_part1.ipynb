{
 "cells": [
  {
   "cell_type": "markdown",
   "metadata": {
    "id": "2PQW7OXEoWEZ"
   },
   "source": [
    "# <a href=\"https://thetahat.ru/courses/ad\">Введение в анализ данных</a>\n",
    "## Домашнее задание 3, <font color=\"blue\">легкая часть</font>. Линейная и логистическая регрессии.\n"
   ]
  },
  {
   "cell_type": "markdown",
   "metadata": {
    "id": "aRt8VO2EoWEa"
   },
   "source": [
    "**Правила, <font color=\"red\">прочитайте внимательно</font>:**\n",
    "\n",
    "* Выполненную работу нужно отправить телеграм-боту `@thetahat_ds25_bot`. Для начала работы с ботом каждый раз отправляйте `/start`. Дождитесь подтверждения от бота, что он принял файл. Если подтверждения нет, то что-то не так. **Работы, присланные иным способом, не принимаются.**\n",
    "* Дедлайн см. в боте. После дедлайна работы не принимаются кроме случаев наличия уважительной причины.\n",
    "* Прислать нужно **ноутбук в формате `ipynb`**. Если вы строите интерактивные графики, их стоит прислать в формате html.\n",
    "* Следите за размером файлов. **Бот не может принимать файлы весом более 20 Мб.** Если файл получается больше, заранее разделите его на несколько.\n",
    "* Выполнять задание необходимо полностью самостоятельно. **При обнаружении списывания всем участникам списывания дается штраф -2 балла к итоговой оценке за семестр.**\n",
    "* Решения, размещенные на каких-либо интернет-ресурсах, не принимаются. Кроме того, публикация решения в открытом доступе может быть приравнена к предоставлении возможности списать.\n",
    "* Обратите внимание на <a href=\"https://thetahat.ru/courses/ai-rules\"><b>правила использования ИИ-инструментов</b></a> при решении домашнего задания.\n",
    "* **Код из рассказанных на занятиях ноутбуков** можно использовать без ограничений.\n",
    "* Для выполнения задания используйте этот ноутбук в качестве основы, ничего не удаляя из него. Можно добавлять необходимое количество ячеек.\n",
    "* Комментарии к решению пишите в markdown-ячейках.\n",
    "* Выполнение задания (ход решения, выводы и пр.) должно быть осуществлено на русском языке.\n",
    "* Решение проверяется системой ИИ-проверки <a href=\"https://thetahat.ru/\"><img src=\"https://miptstats.github.io/theta_grader_small.png\" style=\"display: inline; vertical-align: middle;\"></a> **ThetaGrader**. Результат проверки валидируется и исправляется человеком, после чего комментарии отправляются студентам.\n",
    "* Если код будет не понятен проверяющему, оценка может быть снижена.\n",
    "* Никакой код из данного задания при проверке запускаться не будет. *Если код студента не выполнен, недописан и т.д., то он не оценивается.*\n",
    "* **Код из рассказанных на занятиях ноутбуков** можно использовать без ограничений.\n",
    "\n",
    "**Правила оформления теоретических задач:**\n",
    "\n",
    "* Решения необходимо оформить в виде $\\LaTeX$ в markdown-ячейках. Иные способы (в т.ч. фотографии) не принимаются.\n",
    "* Если вы не знаете $\\LaTeX$, используйте ИИ-инструменты для оформления черновика решения. Примеры были показаны на лекции 2 по ИИ-инструментам.\n",
    "* **В решениях поясняйте, чем вы пользуетесь**, хотя бы кратко. \n",
    "* Решение, в котором есть только ответ, и отсутствуют вычисления, оценивается в 0 баллов.\n",
    "\n",
    "\n",
    "<b><font size=\"5\" color=\"red\">Важно!!! Правила заполнения ноутбука:</font></b>\n",
    "* Запрещается удалять имеющиеся в ноутбуке ячейки, менять местами положения задач.\n",
    "* Сохраняйте естественный линейный порядок повествования в ноутбуке сверху-вниз.\n",
    "* Отвечайте на вопросы, а также добавляйте новые ячейки в предложенных местах, которые обозначены `<...>`.\n",
    "* В markdown-ячейка, содержащих описание задачи, находятся специальные отметки, которые <font color=\"red\"><b>запрещается модифицировать</b></font>.\n",
    "* При нарушении данных правил работа может получить 0 баллов.\n",
    "\n",
    "\n",
    "**Баллы за задание:**\n",
    "\n",
    "<b><font color=\"blue\">Легкая часть</font></b> (достаточно на \"хор\"):\n",
    "\n",
    "* Задача 1 &mdash; 20 баллов\n",
    "* Задача 2 &mdash; 80 баллов\n",
    "* Задача 3 &mdash; 30 баллов;\n",
    "* Задача 4 &mdash; 20 баллов;\n",
    "\n",
    "<b><font color=\"orange\">Сложная часть</font></b> (необходимо на \"отл\"):\n",
    "\n",
    "* Задачи 5-7: скачайте второй ноутбук с условием задания со страницы курса.\n",
    "\n",
    "Баллы учитываются в <b>обязательной части</b> курса и не влияют на оценку по факультативной части."
   ]
  },
  {
   "cell_type": "code",
   "metadata": {
    "id": "TLUn-L0HoWEb",
    "ExecuteTime": {
     "end_time": "2025-03-14T20:10:57.777221Z",
     "start_time": "2025-03-14T20:10:57.773711Z"
    }
   },
   "source": [
    "# Bot check\n",
    "\n",
    "# HW_ID: fpmi_ad3_part1\n",
    "# Бот проверит этот ID и предупредит, если случайно сдать что-то не то.\n",
    "\n",
    "# Status: final\n",
    "# Перед отправкой в финальном решении удали \"not\" в строчке выше.\n",
    "# Так бот проверит, что ты отправляешь финальную версию, а не промежуточную.\n",
    "# Никакие значения в этой ячейке не влияют на факт сдачи работы."
   ],
   "outputs": [],
   "execution_count": 25
  },
  {
   "cell_type": "code",
   "metadata": {
    "id": "LjG63iFWoWEb",
    "ExecuteTime": {
     "end_time": "2025-03-15T09:17:13.578820Z",
     "start_time": "2025-03-15T09:17:13.575365Z"
    }
   },
   "source": [
    "import numpy as np\n",
    "import pandas as pd\n",
    "import matplotlib.pyplot as plt\n",
    "import seaborn as sns\n",
    "from mercantile import feature\n",
    "from sympy.abc import theta\n",
    "\n",
    "sns.set(style=\"whitegrid\", palette=\"Set2\")"
   ],
   "outputs": [],
   "execution_count": 5
  },
  {
   "cell_type": "markdown",
   "metadata": {
    "id": "4TDjFMbboWEc"
   },
   "source": [
    "При решении задания используйте `sklearn`. Пропишите сюда необходимые импорты"
   ]
  },
  {
   "cell_type": "code",
   "metadata": {
    "id": "j19vAJp2oWEc",
    "ExecuteTime": {
     "end_time": "2025-03-15T09:17:13.590662Z",
     "start_time": "2025-03-15T09:17:13.587840Z"
    }
   },
   "source": [
    "from sklearn.model_selection import train_test_split\n",
    "import matplotlib.ticker as mticker\n",
    "from sklearn.linear_model import LinearRegression\n",
    "from sklearn.metrics import mean_squared_error, mean_absolute_error, r2_score, mean_absolute_percentage_error\n",
    "from sklearn.linear_model import LogisticRegression"
   ],
   "outputs": [],
   "execution_count": 6
  },
  {
   "cell_type": "markdown",
   "metadata": {
    "id": "N5pKs47noWEc"
   },
   "source": [
    "---\n",
    "### <font color=\"blue\"><i>Легкая часть</i></font>"
   ]
  },
  {
   "cell_type": "markdown",
   "metadata": {},
   "source": [
    "---\n",
    "### Задача 1."
   ]
  },
  {
   "cell_type": "markdown",
   "metadata": {
    "ai_eval_tool": {
     "snippet_hash": "146d04157c07b08ee58d3eafdcf82c32",
     "snippet_label": "start"
    },
    "id": "5s4mqy-HoWEc"
   },
   "source": [
    "<!-- Внимание! Здесь находится специальная отметка. Ее нельзя удалять! Ответы на вопросы / выводы для предыдущего пункта(ов) пиши в ячейках выше! -->\n",
    "<!-- 146d04157c07b08ee58d3eafdcf82c32 -->\n",
    "Рассмотрим модель одномерной линейной регрессии *без свободного параметра* $y(x) = \\theta x$, где $x\\in \\mathbb{R}$ и $\\theta \\in \\mathbb{R}$. Предполагаем, что данные получены по правилу\n",
    "$$Y_i = \\theta x_i + \\varepsilon_i,$$\n",
    "где $i \\in \\{1, ..., n\\}$, числа $x_i \\in \\mathbb{R}$ неслучайны, а $\\varepsilon_i$ &mdash; случайные ошибки.\n",
    "\n",
    "**1.** Посчитайте оценку $\\widehat{\\theta}$ методом наименьших квадратов по явной формуле.\n",
    "\n",
    "**2.** Выпишите формулы итераций градиентного спуска (GD) и стохастического градиентного спуска (SGD) для поиска $\\widehat{\\theta}$. Не забудьте указать, как в SGD математически определяется батч (набор объектов на каждой итерации).\n",
    "\n",
    "**3.** Опишите, что произойдет, если для некоторого $i$ ошибка $\\varepsilon_i$ будет очень большой.\n",
    "\n",
    "\n",
    "*Замечания.*\n",
    "1. Это теоретическая задача, не перепутайте 😄\n",
    "2. В ответе во всех пунктах могут оставаться суммы $n$ слагаемых, но не должно быть операций с векторами или матрицами.\n",
    "3. **Прочитайте требования к формату решения в правилах сдачи задания.**"
   ]
  },
  {
   "cell_type": "markdown",
   "metadata": {
    "ai_eval_tool": {
     "snippet_hash": "146d04157c07b08ee58d3eafdcf82c32",
     "snippet_label": "end"
    }
   },
   "source": [
    "**Решение:**\n",
    "\n",
    "Рассмотрим модель без свободного члена:\n",
    "\n",
    "$$\n",
    "y_i = \\theta\\,x_i + \\varepsilon_i,\\quad i = 1,\\dots,n.\n",
    "$$\n",
    "\n",
    "Здесь $x_i$ — неконстантные детерминированные числа, а $\\varepsilon_i$ — случайные ошибки.\n",
    "\n",
    "**Оценка $\\hat{\\theta}$ методом наименьших квадратов (МНК).**\n",
    "\n",
    "Минимизируем сумму квадратов:\n",
    "\n",
    "$$\n",
    "S(\\theta) = \\sum_{i=1}^n \\bigl(y_i - \\theta\\,x_i\\bigr)^2.\n",
    "$$\n",
    "\n",
    "Для нахождения минимума найдём производную:\n",
    "\n",
    "$$\n",
    "\\frac{dS}{d\\theta} = -2 \\sum_{i=1}^n x_i\\,\\bigl(y_i - \\theta\\,x_i\\bigr) = 0.\n",
    "$$\n",
    "\n",
    "Отсюда\n",
    "\n",
    "$$\n",
    "\\hat{\\theta} = \\frac{\\sum_{i=1}^n x_i\\,y_i}{\\sum_{i=1}^n x_i^2}.\n",
    "$$\n",
    "\n",
    "**Градиентный спуск (GD).**\n",
    "\n",
    "Вводим функцию потерь (среднеквадратичную):\n",
    "\n",
    "$$\n",
    "L(\\theta) = \\frac{1}{2\\,n} \\sum_{i=1}^n \\bigl(y_i - \\theta\\,x_i\\bigr)^2.\n",
    "$$\n",
    "\n",
    "Тогда её производная:\n",
    "\n",
    "$$\n",
    "\\frac{dL}{d\\theta} = -\\frac{1}{n}\\sum_{i=1}^n x_i\\,\\bigl(y_i - \\theta\\,x_i\\bigr).\n",
    "$$\n",
    "\n",
    "На $k$-й итерации градиентного спуска выполняется обновление:\n",
    "\n",
    "$$\n",
    "\\theta^{(k+1)} = \\theta^{(k)} - \\eta\\,\\frac{dL}{d\\theta}\\Bigl(\\theta^{(k)}\\Bigr)\n",
    "= \\theta^{(k)} + \\frac{\\eta}{n}\\sum_{i=1}^n x_i\\,\\bigl(y_i - \\theta^{(k)}\\,x_i\\bigr),\n",
    "$$\n",
    "\n",
    "где $\\eta$ — шаг обучения.\n",
    "\n",
    "**Стохастический градиентный спуск (SGD).**\n",
    "\n",
    "Если вместо всей выборки используем лишь случайный батч (например, одну точку $(x_j,y_j)$ на итерации), то обновление параметра будет выглядеть так:\n",
    "\n",
    "$$\n",
    "\\theta^{(k+1)} = \\theta^{(k)} - \\eta\\,\\frac{\\partial}{\\partial \\theta}\\Bigl(\\tfrac12\\,(y_j - \\theta\\,x_j)^2\\Bigr)\n",
    "= \\theta^{(k)} + \\eta\\,x_j\\,\\bigl(y_j - \\theta^{(k)}\\,x_j\\bigr).\n",
    "$$\n",
    "\n",
    "**Поведение при большой ошибке $\\varepsilon_i$.**\n",
    "\n",
    "Если в данных встречается точка с очень большим значением $\\vert y_i - \\theta\\,x_i \\vert$, то:\n",
    "\n",
    "- В классическом (полном) GD это резко увеличивает сумму квадратов и модуль градиента, вызывая сильный сдвиг $\\theta$.\n",
    "- В SGD такая «выбросная» точка может внести резкое изменение в $\\theta$ на одной итерации, но на следующих шагах остальные данные могут скорректировать значение параметра.\n",
    "\n"
   ]
  },
  {
   "cell_type": "markdown",
   "metadata": {
    "id": "zaNoiiavoWEd"
   },
   "source": [
    "<!-- Внимание! Здесь находится специальная отметка. Ее нельзя удалять! Ответы на вопросы / выводы для предыдущего пункта(ов) пиши в ячейках выше! -->\n",
    "<!-- 00000000000000000000000000000000 -->\n",
    "---\n",
    "### Задача 2.\n",
    "\n",
    "*Перед выполнением задачи ознакомтесь с <a href=\"https://thetahat.ru/courses/ad/main/3/ad_linreg_sklearn\">ноутбуком по линейной регрессии</a> с занятия.*\n",
    "\n",
    "Скоро весна и лето &mdash; идеальное время года для путешествий и прогулок на велосипедах. В крупных городах обычно развиты сети проката велосипедов или самокатов, предоставляющие удобный сервис. Одной из важных задач таких компаний является прогнозирование количества арендованных велосипедов в зависимости от времени года и погодных условий.\n",
    "\n",
    "Рассмотрим датасет <a target=\"_blank\" href=\"https://archive.ics.uci.edu/ml/datasets/Bike+Sharing+Dataset\">Bike Sharing Dataset</a> от компании <a target=\"_blank\" href=\"https://www.capitalbikeshare.com/\">Capital Bikeshare</a>, располагающей автоматизированными пунктами проката велосипедов. В датасете по дням записаны календарная информация и погодные условия, а также число прокатов в этот день. Цель &mdash; предсказать количество арендованных велосипедов по остальным характеристикам.\n",
    "\n",
    "<img src=\"https://thetahat.ru/files/ad/main/3/bike1.jpeg\">\n",
    "\n",
    "Будем работать только со следующими признаками:\n",
    "* `season`: время года: 1 &mdash; зима, 2 &mdash; весна, 3 &mdash; лето, 4 &mdash; осень;\n",
    "* `mnth`: месяц от 1 до 12;\n",
    "* `holiday`: является ли текущий день праздничным;\n",
    "* `weekday`: день недели от 0 до 6;\n",
    "* `workingday`: является ли текущий день рабочим или выходным;\n",
    "* `weathersit`: оценка благоприятности погоды от 1 (чистый, ясный день) до 4 (ливень, туман);\n",
    "* `temp`: температура в Цельсиях;\n",
    "* `atemp`: температура по ощущениям в Цельсиях;\n",
    "* `hum`: влажность воздуха;\n",
    "* `windspeed`: скорость ветра;\n",
    "* `cnt`: количество арендованных велосипедов в текущий день.\n",
    "\n",
    "---\n",
    "\n",
    "Скачайте данные, загрузите их с помощью `pandas` и разделите на обучающую и тестовую части в соотношении 4:1. Далее всю аналитику необходимо проводить только на обучающей части данных."
   ]
  },
  {
   "cell_type": "code",
   "metadata": {
    "id": "MVqDzpcRoWEd",
    "ExecuteTime": {
     "end_time": "2025-03-15T09:17:13.620663Z",
     "start_time": "2025-03-15T09:17:13.602622Z"
    }
   },
   "source": [
    "days_pd = pd.read_csv('../data/day.csv')\n",
    "\n",
    "lower_bound = days_pd['cnt'].quantile(q=0.03)\n",
    "upper_bound = days_pd['cnt'].quantile(q=0.97)  # some small feature инжениринг\n",
    "days_pd = days_pd[(days_pd['cnt'] >= lower_bound) & (days_pd['cnt'] <= upper_bound)]\n",
    "\n",
    "days_features, days_targets = days_pd[\n",
    "    [\"season\", \"mnth\", \"holiday\", \"weekday\", \"workingday\", \"weathersit\", \"temp\", \"atemp\", \"hum\", \"windspeed\"]], days_pd[\n",
    "    'cnt']\n",
    "\n",
    "X_days_train, X_days_test, y_days_train, y_days_test = train_test_split(days_features, days_targets, test_size=0.2,\n",
    "                                                                        random_state=42)"
   ],
   "outputs": [],
   "execution_count": 7
  },
  {
   "cell_type": "markdown",
   "metadata": {
    "ai_eval_tool": {
     "snippet_hash": "7e2346d718d374e3f957928b573e2a30",
     "snippet_label": "start"
    },
    "id": "Rlbq9wRloWEd"
   },
   "source": [
    "<!-- Внимание! Здесь находится специальная отметка. Ее нельзя удалять! Ответы на вопросы / выводы для предыдущего пункта(ов) пиши в ячейках выше! -->\n",
    "<!-- 7e2346d718d374e3f957928b573e2a30 -->\n",
    "#### 1. Визуальный анализ\n",
    "\n",
    "Посмотрите по графикам, как *целевой признак зависит от остальных* и поймите характер этой зависимости. Старайтесь строить информативные графики, а из финального решения убирать те, которые не пригодились.\n",
    "\n",
    "Какие признаки категориальные, а какие &mdash; вещественные? Учтите это при построении информативных графиков.\n",
    "\n",
    "*Указание*. Среди признаков есть такие, значения которых как-то упорядочены, и их относительно небольшое количество. Чтобы понять, являются ли они категориальными, попробуйте понять, как с их значениями будут работать линейные модели. Иначе говоря, допустимо ли с точки зрения природы данных выполнять арифметические операции между *любыми* значениями этого признака, согласуется ли это со смыслом, который несет в себе данный признак?"
   ]
  },
  {
   "cell_type": "code",
   "metadata": {
    "ai_eval_tool": {
     "snippet_hash": "7e2346d718d374e3f957928b573e2a30",
     "snippet_label": "end"
    },
    "id": "6ElRHZvBoWEd",
    "ExecuteTime": {
     "end_time": "2025-03-15T09:17:14.177841Z",
     "start_time": "2025-03-15T09:17:13.632686Z"
    }
   },
   "source": [
    "\"\"\"\n",
    "Категориальные:\n",
    "    season\n",
    "    mnth\n",
    "    holiday\n",
    "    weekday\n",
    "    workingday\n",
    "    weathersit\n",
    "Вещественные:\n",
    "    temp\n",
    "    atemp\n",
    "    hum\n",
    "    windspeed\n",
    "    cnt (можно отнести к категориальных. (это, если что, вообще таргет.))\n",
    "\"\"\"\n",
    "\n",
    "\n",
    "def aggregator(feature: str,\n",
    "               X: pd.DataFrame,\n",
    "               y: pd.Series,\n",
    "               transform=None) -> pd.DataFrame:\n",
    "    \"\"\"\n",
    "    Универсальная функция для подсчёта количества (count) целевой переменной y\n",
    "    в зависимости от значений признака feature.\n",
    "    \n",
    "    Параметр `transform` - это функция, которая при необходимости\n",
    "    преобразует значения признака (например, для денормализации).\n",
    "    Если transform=None, используется тождественное преобразование.\n",
    "    \"\"\"\n",
    "    if transform is None:\n",
    "        transform = lambda x: x  # без изменений\n",
    "\n",
    "    data = transform(X[feature])\n",
    "    df = pd.DataFrame({feature: data, 'y': y})\n",
    "\n",
    "    agg_df = df.groupby(feature)['y'].count().reset_index()\n",
    "    return agg_df\n",
    "\n",
    "\n",
    "cat_features = ['holiday', 'season', 'mnth', 'weathersit']\n",
    "\n",
    "num_features = {\n",
    "    'atemp': lambda col: round(col * (50 - (-16)) + (-16)),\n",
    "    # да, магические константы, взятые с сайта. Не хотел создавать новые переменные \n",
    "    'windspeed': lambda col: round(col * 67)\n",
    "}\n",
    "\n",
    "fig, axes = plt.subplots(nrows=2, ncols=3, figsize=(20, 10))\n",
    "axes = axes.flatten()\n",
    "\n",
    "for i, feat in enumerate(cat_features):\n",
    "    agg_df = aggregator(feat, X_days_train, y_days_train)\n",
    "    axes[i].bar(agg_df[feat], agg_df['y'])\n",
    "    axes[i].set_title(feat)\n",
    "    axes[i].set_ylabel('Average Bike Count')\n",
    "    axes[i].xaxis.set_major_locator(mticker.MaxNLocator(integer=True))\n",
    "    axes[i].yaxis.set_major_locator(mticker.MaxNLocator(integer=True))\n",
    "\n",
    "start_idx = len(cat_features)\n",
    "for j, (feat, func) in enumerate(num_features.items()):\n",
    "    idx = start_idx + j\n",
    "    agg_df = aggregator(feat, X_days_train, y_days_train, transform=func)\n",
    "    axes[idx].plot(agg_df[feat], agg_df['y'], color='red')\n",
    "    axes[idx].set_title(feat)\n",
    "    axes[idx].set_ylabel('Average Bike Count')\n",
    "    axes[idx].xaxis.set_major_locator(mticker.MaxNLocator(integer=True))\n",
    "    axes[idx].yaxis.set_major_locator(mticker.MaxNLocator(integer=True))\n",
    "\n",
    "plt.tight_layout()\n",
    "plt.show()"
   ],
   "outputs": [
    {
     "data": {
      "text/plain": [
       "<Figure size 2000x1000 with 6 Axes>"
      ],
      "image/png": "[encoded data removed]"
     },
     "metadata": {},
     "output_type": "display_data"
    }
   ],
   "execution_count": 8
  },
  {
   "cell_type": "markdown",
   "metadata": {
    "ai_eval_tool": {
     "snippet_hash": "4c1edb365b02e434e38deeb52b2096fa",
     "snippet_label": "start"
    },
    "id": "W0utO6FLoWEe"
   },
   "source": [
    "<!-- Внимание! Здесь находится специальная отметка. Ее нельзя удалять! Ответы на вопросы / выводы для предыдущего пункта(ов) пиши в ячейках выше! -->\n",
    "<!-- 4c1edb365b02e434e38deeb52b2096fa -->\n",
    "Сделайте выводы по графикам. В частности, ответьте на следующие вопросы.\n",
    "* Есть ли в данных явные выбросы, то есть точки, далеко находящиеся от основной массы точек?\n",
    "* Стоит ли рассматривать какие-либо нелинейные функции от признаков? Не стоит придумывать сложные функции, достаточно рассмотреть $x^2$, $\\log x$ и $I\\{x > c\\}$.\n",
    "\n"
   ]
  },
  {
   "cell_type": "markdown",
   "metadata": {
    "ai_eval_tool": {
     "snippet_hash": "4c1edb365b02e434e38deeb52b2096fa",
     "snippet_label": "end"
    },
    "id": "rmf5JAaZoWEe"
   },
   "source": [
    "**Выводы по графикам:** Судя по графикам, значительное влияние оказывает, выходной день, или нет, качество погоды, а также скорость ветра и температура (вероятно, сильно коррелирует с параметром weathersist), в то время, как месяц и время года почти не влияют на количество арендованных велосипедов. \n",
    "В данных нет явных выбросов (не считаю скачки в выходных днях выбросом, это эмпирически подтверждающаяся закономерность. Скачки температуры, вероятно, вызваны округлением, или недостатком данных (возможно, в дни, когда температура была около 17 градусов (явное падение), был не выходной))\n",
    "Квадраты и логарифмы можно рассматривать, если удостовериться (я еще не удостоверился), что, например, температура является около определяющим фактором (например, в дни, когда слишком холодно, никто не пойдет кататься). Логарифм можно применить к скорости ветра, чтобы сгладить большие значения. Индикатор полезен для отсечения аномальных температурных явлений (например, +35, -20)"
   ]
  },
  {
   "cell_type": "markdown",
   "metadata": {
    "ai_eval_tool": {
     "snippet_hash": "e5fcb54a72af33e2c09b66124e63e5fc",
     "snippet_label": "start"
    },
    "id": "3yFmlFFroWEe"
   },
   "source": [
    "<!-- Внимание! Здесь находится специальная отметка. Ее нельзя удалять! Ответы на вопросы / выводы для предыдущего пункта(ов) пиши в ячейках выше! -->\n",
    "<!-- e5fcb54a72af33e2c09b66124e63e5fc -->\n",
    "#### 2. Подготовка данных\n",
    "\n",
    "Опишите по шагам процедуру предобработки данных, которая будет включать работу с выбросами, преобразования вещественных и категориальных признаков, возможно, создание каких-либо новых признаков (посмотрите <a href=\"https://thetahat.ru/courses/ad/main/3/ad_linreg_sklearn\">пример</a> с занятия). То, как именно выполнять подготовку данных, является целым исскуством. Здесь нет \"правильного\" подхода, здесь есть метрика качества на тестовом множестве, которая в последствии оценит качество вашей модели.\n",
    "\n",
    "*Обратите внимание, от того, насколько качественно вы проведете визуальный анализ и подготовку данных, будет зависеть качество ваших моделей на следующих шагах.*\n",
    "\n",
    "**Процедура предобработки данных:**"
   ]
  },
  {
   "cell_type": "markdown",
   "metadata": {
    "id": "tMYAiMjWoWEe"
   },
   "source": "**a).** Работа с выбросами: еще вначале я отсек квантили, чтобы убрать сильно отличающиеся данные"
  },
  {
   "cell_type": "markdown",
   "metadata": {
    "id": "sdpU3rZHoWEf"
   },
   "source": [
    "Реализуйте данную процедуру."
   ]
  },
  {
   "cell_type": "code",
   "metadata": {
    "ai_eval_tool": {
     "snippet_hash": "e5fcb54a72af33e2c09b66124e63e5fc",
     "snippet_label": "end"
    },
    "id": "zwkRgNImoWEf",
    "ExecuteTime": {
     "end_time": "2025-03-15T09:17:14.206080Z",
     "start_time": "2025-03-15T09:17:14.203629Z"
    }
   },
   "source": [
    "# lower_bound = days_pd['cnt'].quantile(q=0.03)\n",
    "# upper_bound = days_pd['cnt'].quantile(q=0.97)  # some small feature инжениринг\n",
    "# days_pd = days_pd[(days_pd['cnt'] >= lower_bound) & (days_pd['cnt'] <= upper_bound)]\n",
    "\n",
    "# сделал это в начале "
   ],
   "outputs": [],
   "execution_count": 9
  },
  {
   "cell_type": "markdown",
   "metadata": {
    "ai_eval_tool": {
     "snippet_hash": "c5124704b109dacbd9cf5647f50eb72c",
     "snippet_label": "start"
    },
    "id": "lTS2CoiIoWEf"
   },
   "source": [
    "<!-- Внимание! Здесь находится специальная отметка. Ее нельзя удалять! Ответы на вопросы / выводы для предыдущего пункта(ов) пиши в ячейках выше! -->\n",
    "<!-- c5124704b109dacbd9cf5647f50eb72c -->\n",
    "#### 3. Обучение модели и ее анализ\n",
    "\n",
    "Обучите линейную регрессию из `sklearn` на полученных данных и посмотрите на полученные оценки коэффициентов (в т.ч. свободный коэффициент)."
   ]
  },
  {
   "cell_type": "code",
   "metadata": {
    "ai_eval_tool": {
     "snippet_hash": "c5124704b109dacbd9cf5647f50eb72c",
     "snippet_label": "end"
    },
    "id": "MrPj9XfeoWEf",
    "ExecuteTime": {
     "end_time": "2025-03-15T09:17:14.326751Z",
     "start_time": "2025-03-15T09:17:14.237477Z"
    }
   },
   "source": [
    "model = LinearRegression()\n",
    "model.fit(X_days_train, y_days_train)"
   ],
   "outputs": [
    {
     "data": {
      "text/plain": [
       "LinearRegression()"
      ],
      "text/html": [
       "<style>#sk-container-id-1 {\n",
       "  /* Definition of color scheme common for light and dark mode */\n",
       "  --sklearn-color-text: #000;\n",
       "  --sklearn-color-text-muted: #666;\n",
       "  --sklearn-color-line: gray;\n",
       "  /* Definition of color scheme for unfitted estimators */\n",
       "  --sklearn-color-unfitted-level-0: #fff5e6;\n",
       "  --sklearn-color-unfitted-level-1: #f6e4d2;\n",
       "  --sklearn-color-unfitted-level-2: #ffe0b3;\n",
       "  --sklearn-color-unfitted-level-3: chocolate;\n",
       "  /* Definition of color scheme for fitted estimators */\n",
       "  --sklearn-color-fitted-level-0: #f0f8ff;\n",
       "  --sklearn-color-fitted-level-1: #d4ebff;\n",
       "  --sklearn-color-fitted-level-2: #b3dbfd;\n",
       "  --sklearn-color-fitted-level-3: cornflowerblue;\n",
       "\n",
       "  /* Specific color for light theme */\n",
       "  --sklearn-color-text-on-default-background: var(--sg-text-color, var(--theme-code-foreground, var(--jp-content-font-color1, black)));\n",
       "  --sklearn-color-background: var(--sg-background-color, var(--theme-background, var(--jp-layout-color0, white)));\n",
       "  --sklearn-color-border-box: var(--sg-text-color, var(--theme-code-foreground, var(--jp-content-font-color1, black)));\n",
       "  --sklearn-color-icon: #696969;\n",
       "\n",
       "  @media (prefers-color-scheme: dark) {\n",
       "    /* Redefinition of color scheme for dark theme */\n",
       "    --sklearn-color-text-on-default-background: var(--sg-text-color, var(--theme-code-foreground, var(--jp-content-font-color1, white)));\n",
       "    --sklearn-color-background: var(--sg-background-color, var(--theme-background, var(--jp-layout-color0, #111)));\n",
       "    --sklearn-color-border-box: var(--sg-text-color, var(--theme-code-foreground, var(--jp-content-font-color1, white)));\n",
       "    --sklearn-color-icon: #878787;\n",
       "  }\n",
       "}\n",
       "\n",
       "#sk-container-id-1 {\n",
       "  color: var(--sklearn-color-text);\n",
       "}\n",
       "\n",
       "#sk-container-id-1 pre {\n",
       "  padding: 0;\n",
       "}\n",
       "\n",
       "#sk-container-id-1 input.sk-hidden--visually {\n",
       "  border: 0;\n",
       "  clip: rect(1px 1px 1px 1px);\n",
       "  clip: rect(1px, 1px, 1px, 1px);\n",
       "  height: 1px;\n",
       "  margin: -1px;\n",
       "  overflow: hidden;\n",
       "  padding: 0;\n",
       "  position: absolute;\n",
       "  width: 1px;\n",
       "}\n",
       "\n",
       "#sk-container-id-1 div.sk-dashed-wrapped {\n",
       "  border: 1px dashed var(--sklearn-color-line);\n",
       "  margin: 0 0.4em 0.5em 0.4em;\n",
       "  box-sizing: border-box;\n",
       "  padding-bottom: 0.4em;\n",
       "  background-color: var(--sklearn-color-background);\n",
       "}\n",
       "\n",
       "#sk-container-id-1 div.sk-container {\n",
       "  /* jupyter's `normalize.less` sets `[hidden] { display: none; }`\n",
       "     but bootstrap.min.css set `[hidden] { display: none !important; }`\n",
       "     so we also need the `!important` here to be able to override the\n",
       "     default hidden behavior on the sphinx rendered scikit-learn.org.\n",
       "     See: https://github.com/scikit-learn/scikit-learn/issues/21755 */\n",
       "  display: inline-block !important;\n",
       "  position: relative;\n",
       "}\n",
       "\n",
       "#sk-container-id-1 div.sk-text-repr-fallback {\n",
       "  display: none;\n",
       "}\n",
       "\n",
       "div.sk-parallel-item,\n",
       "div.sk-serial,\n",
       "div.sk-item {\n",
       "  /* draw centered vertical line to link estimators */\n",
       "  background-image: linear-gradient(var(--sklearn-color-text-on-default-background), var(--sklearn-color-text-on-default-background));\n",
       "  background-size: 2px 100%;\n",
       "  background-repeat: no-repeat;\n",
       "  background-position: center center;\n",
       "}\n",
       "\n",
       "/* Parallel-specific style estimator block */\n",
       "\n",
       "#sk-container-id-1 div.sk-parallel-item::after {\n",
       "  content: \"\";\n",
       "  width: 100%;\n",
       "  border-bottom: 2px solid var(--sklearn-color-text-on-default-background);\n",
       "  flex-grow: 1;\n",
       "}\n",
       "\n",
       "#sk-container-id-1 div.sk-parallel {\n",
       "  display: flex;\n",
       "  align-items: stretch;\n",
       "  justify-content: center;\n",
       "  background-color: var(--sklearn-color-background);\n",
       "  position: relative;\n",
       "}\n",
       "\n",
       "#sk-container-id-1 div.sk-parallel-item {\n",
       "  display: flex;\n",
       "  flex-direction: column;\n",
       "}\n",
       "\n",
       "#sk-container-id-1 div.sk-parallel-item:first-child::after {\n",
       "  align-self: flex-end;\n",
       "  width: 50%;\n",
       "}\n",
       "\n",
       "#sk-container-id-1 div.sk-parallel-item:last-child::after {\n",
       "  align-self: flex-start;\n",
       "  width: 50%;\n",
       "}\n",
       "\n",
       "#sk-container-id-1 div.sk-parallel-item:only-child::after {\n",
       "  width: 0;\n",
       "}\n",
       "\n",
       "/* Serial-specific style estimator block */\n",
       "\n",
       "#sk-container-id-1 div.sk-serial {\n",
       "  display: flex;\n",
       "  flex-direction: column;\n",
       "  align-items: center;\n",
       "  background-color: var(--sklearn-color-background);\n",
       "  padding-right: 1em;\n",
       "  padding-left: 1em;\n",
       "}\n",
       "\n",
       "\n",
       "/* Toggleable style: style used for estimator/Pipeline/ColumnTransformer box that is\n",
       "clickable and can be expanded/collapsed.\n",
       "- Pipeline and ColumnTransformer use this feature and define the default style\n",
       "- Estimators will overwrite some part of the style using the `sk-estimator` class\n",
       "*/\n",
       "\n",
       "/* Pipeline and ColumnTransformer style (default) */\n",
       "\n",
       "#sk-container-id-1 div.sk-toggleable {\n",
       "  /* Default theme specific background. It is overwritten whether we have a\n",
       "  specific estimator or a Pipeline/ColumnTransformer */\n",
       "  background-color: var(--sklearn-color-background);\n",
       "}\n",
       "\n",
       "/* Toggleable label */\n",
       "#sk-container-id-1 label.sk-toggleable__label {\n",
       "  cursor: pointer;\n",
       "  display: flex;\n",
       "  width: 100%;\n",
       "  margin-bottom: 0;\n",
       "  padding: 0.5em;\n",
       "  box-sizing: border-box;\n",
       "  text-align: center;\n",
       "  align-items: start;\n",
       "  justify-content: space-between;\n",
       "  gap: 0.5em;\n",
       "}\n",
       "\n",
       "#sk-container-id-1 label.sk-toggleable__label .caption {\n",
       "  font-size: 0.6rem;\n",
       "  font-weight: lighter;\n",
       "  color: var(--sklearn-color-text-muted);\n",
       "}\n",
       "\n",
       "#sk-container-id-1 label.sk-toggleable__label-arrow:before {\n",
       "  /* Arrow on the left of the label */\n",
       "  content: \"▸\";\n",
       "  float: left;\n",
       "  margin-right: 0.25em;\n",
       "  color: var(--sklearn-color-icon);\n",
       "}\n",
       "\n",
       "#sk-container-id-1 label.sk-toggleable__label-arrow:hover:before {\n",
       "  color: var(--sklearn-color-text);\n",
       "}\n",
       "\n",
       "/* Toggleable content - dropdown */\n",
       "\n",
       "#sk-container-id-1 div.sk-toggleable__content {\n",
       "  max-height: 0;\n",
       "  max-width: 0;\n",
       "  overflow: hidden;\n",
       "  text-align: left;\n",
       "  /* unfitted */\n",
       "  background-color: var(--sklearn-color-unfitted-level-0);\n",
       "}\n",
       "\n",
       "#sk-container-id-1 div.sk-toggleable__content.fitted {\n",
       "  /* fitted */\n",
       "  background-color: var(--sklearn-color-fitted-level-0);\n",
       "}\n",
       "\n",
       "#sk-container-id-1 div.sk-toggleable__content pre {\n",
       "  margin: 0.2em;\n",
       "  border-radius: 0.25em;\n",
       "  color: var(--sklearn-color-text);\n",
       "  /* unfitted */\n",
       "  background-color: var(--sklearn-color-unfitted-level-0);\n",
       "}\n",
       "\n",
       "#sk-container-id-1 div.sk-toggleable__content.fitted pre {\n",
       "  /* unfitted */\n",
       "  background-color: var(--sklearn-color-fitted-level-0);\n",
       "}\n",
       "\n",
       "#sk-container-id-1 input.sk-toggleable__control:checked~div.sk-toggleable__content {\n",
       "  /* Expand drop-down */\n",
       "  max-height: 200px;\n",
       "  max-width: 100%;\n",
       "  overflow: auto;\n",
       "}\n",
       "\n",
       "#sk-container-id-1 input.sk-toggleable__control:checked~label.sk-toggleable__label-arrow:before {\n",
       "  content: \"▾\";\n",
       "}\n",
       "\n",
       "/* Pipeline/ColumnTransformer-specific style */\n",
       "\n",
       "#sk-container-id-1 div.sk-label input.sk-toggleable__control:checked~label.sk-toggleable__label {\n",
       "  color: var(--sklearn-color-text);\n",
       "  background-color: var(--sklearn-color-unfitted-level-2);\n",
       "}\n",
       "\n",
       "#sk-container-id-1 div.sk-label.fitted input.sk-toggleable__control:checked~label.sk-toggleable__label {\n",
       "  background-color: var(--sklearn-color-fitted-level-2);\n",
       "}\n",
       "\n",
       "/* Estimator-specific style */\n",
       "\n",
       "/* Colorize estimator box */\n",
       "#sk-container-id-1 div.sk-estimator input.sk-toggleable__control:checked~label.sk-toggleable__label {\n",
       "  /* unfitted */\n",
       "  background-color: var(--sklearn-color-unfitted-level-2);\n",
       "}\n",
       "\n",
       "#sk-container-id-1 div.sk-estimator.fitted input.sk-toggleable__control:checked~label.sk-toggleable__label {\n",
       "  /* fitted */\n",
       "  background-color: var(--sklearn-color-fitted-level-2);\n",
       "}\n",
       "\n",
       "#sk-container-id-1 div.sk-label label.sk-toggleable__label,\n",
       "#sk-container-id-1 div.sk-label label {\n",
       "  /* The background is the default theme color */\n",
       "  color: var(--sklearn-color-text-on-default-background);\n",
       "}\n",
       "\n",
       "/* On hover, darken the color of the background */\n",
       "#sk-container-id-1 div.sk-label:hover label.sk-toggleable__label {\n",
       "  color: var(--sklearn-color-text);\n",
       "  background-color: var(--sklearn-color-unfitted-level-2);\n",
       "}\n",
       "\n",
       "/* Label box, darken color on hover, fitted */\n",
       "#sk-container-id-1 div.sk-label.fitted:hover label.sk-toggleable__label.fitted {\n",
       "  color: var(--sklearn-color-text);\n",
       "  background-color: var(--sklearn-color-fitted-level-2);\n",
       "}\n",
       "\n",
       "/* Estimator label */\n",
       "\n",
       "#sk-container-id-1 div.sk-label label {\n",
       "  font-family: monospace;\n",
       "  font-weight: bold;\n",
       "  display: inline-block;\n",
       "  line-height: 1.2em;\n",
       "}\n",
       "\n",
       "#sk-container-id-1 div.sk-label-container {\n",
       "  text-align: center;\n",
       "}\n",
       "\n",
       "/* Estimator-specific */\n",
       "#sk-container-id-1 div.sk-estimator {\n",
       "  font-family: monospace;\n",
       "  border: 1px dotted var(--sklearn-color-border-box);\n",
       "  border-radius: 0.25em;\n",
       "  box-sizing: border-box;\n",
       "  margin-bottom: 0.5em;\n",
       "  /* unfitted */\n",
       "  background-color: var(--sklearn-color-unfitted-level-0);\n",
       "}\n",
       "\n",
       "#sk-container-id-1 div.sk-estimator.fitted {\n",
       "  /* fitted */\n",
       "  background-color: var(--sklearn-color-fitted-level-0);\n",
       "}\n",
       "\n",
       "/* on hover */\n",
       "#sk-container-id-1 div.sk-estimator:hover {\n",
       "  /* unfitted */\n",
       "  background-color: var(--sklearn-color-unfitted-level-2);\n",
       "}\n",
       "\n",
       "#sk-container-id-1 div.sk-estimator.fitted:hover {\n",
       "  /* fitted */\n",
       "  background-color: var(--sklearn-color-fitted-level-2);\n",
       "}\n",
       "\n",
       "/* Specification for estimator info (e.g. \"i\" and \"?\") */\n",
       "\n",
       "/* Common style for \"i\" and \"?\" */\n",
       "\n",
       ".sk-estimator-doc-link,\n",
       "a:link.sk-estimator-doc-link,\n",
       "a:visited.sk-estimator-doc-link {\n",
       "  float: right;\n",
       "  font-size: smaller;\n",
       "  line-height: 1em;\n",
       "  font-family: monospace;\n",
       "  background-color: var(--sklearn-color-background);\n",
       "  border-radius: 1em;\n",
       "  height: 1em;\n",
       "  width: 1em;\n",
       "  text-decoration: none !important;\n",
       "  margin-left: 0.5em;\n",
       "  text-align: center;\n",
       "  /* unfitted */\n",
       "  border: var(--sklearn-color-unfitted-level-1) 1pt solid;\n",
       "  color: var(--sklearn-color-unfitted-level-1);\n",
       "}\n",
       "\n",
       ".sk-estimator-doc-link.fitted,\n",
       "a:link.sk-estimator-doc-link.fitted,\n",
       "a:visited.sk-estimator-doc-link.fitted {\n",
       "  /* fitted */\n",
       "  border: var(--sklearn-color-fitted-level-1) 1pt solid;\n",
       "  color: var(--sklearn-color-fitted-level-1);\n",
       "}\n",
       "\n",
       "/* On hover */\n",
       "div.sk-estimator:hover .sk-estimator-doc-link:hover,\n",
       ".sk-estimator-doc-link:hover,\n",
       "div.sk-label-container:hover .sk-estimator-doc-link:hover,\n",
       ".sk-estimator-doc-link:hover {\n",
       "  /* unfitted */\n",
       "  background-color: var(--sklearn-color-unfitted-level-3);\n",
       "  color: var(--sklearn-color-background);\n",
       "  text-decoration: none;\n",
       "}\n",
       "\n",
       "div.sk-estimator.fitted:hover .sk-estimator-doc-link.fitted:hover,\n",
       ".sk-estimator-doc-link.fitted:hover,\n",
       "div.sk-label-container:hover .sk-estimator-doc-link.fitted:hover,\n",
       ".sk-estimator-doc-link.fitted:hover {\n",
       "  /* fitted */\n",
       "  background-color: var(--sklearn-color-fitted-level-3);\n",
       "  color: var(--sklearn-color-background);\n",
       "  text-decoration: none;\n",
       "}\n",
       "\n",
       "/* Span, style for the box shown on hovering the info icon */\n",
       ".sk-estimator-doc-link span {\n",
       "  display: none;\n",
       "  z-index: 9999;\n",
       "  position: relative;\n",
       "  font-weight: normal;\n",
       "  right: .2ex;\n",
       "  padding: .5ex;\n",
       "  margin: .5ex;\n",
       "  width: min-content;\n",
       "  min-width: 20ex;\n",
       "  max-width: 50ex;\n",
       "  color: var(--sklearn-color-text);\n",
       "  box-shadow: 2pt 2pt 4pt #999;\n",
       "  /* unfitted */\n",
       "  background: var(--sklearn-color-unfitted-level-0);\n",
       "  border: .5pt solid var(--sklearn-color-unfitted-level-3);\n",
       "}\n",
       "\n",
       ".sk-estimator-doc-link.fitted span {\n",
       "  /* fitted */\n",
       "  background: var(--sklearn-color-fitted-level-0);\n",
       "  border: var(--sklearn-color-fitted-level-3);\n",
       "}\n",
       "\n",
       ".sk-estimator-doc-link:hover span {\n",
       "  display: block;\n",
       "}\n",
       "\n",
       "/* \"?\"-specific style due to the `<a>` HTML tag */\n",
       "\n",
       "#sk-container-id-1 a.estimator_doc_link {\n",
       "  float: right;\n",
       "  font-size: 1rem;\n",
       "  line-height: 1em;\n",
       "  font-family: monospace;\n",
       "  background-color: var(--sklearn-color-background);\n",
       "  border-radius: 1rem;\n",
       "  height: 1rem;\n",
       "  width: 1rem;\n",
       "  text-decoration: none;\n",
       "  /* unfitted */\n",
       "  color: var(--sklearn-color-unfitted-level-1);\n",
       "  border: var(--sklearn-color-unfitted-level-1) 1pt solid;\n",
       "}\n",
       "\n",
       "#sk-container-id-1 a.estimator_doc_link.fitted {\n",
       "  /* fitted */\n",
       "  border: var(--sklearn-color-fitted-level-1) 1pt solid;\n",
       "  color: var(--sklearn-color-fitted-level-1);\n",
       "}\n",
       "\n",
       "/* On hover */\n",
       "#sk-container-id-1 a.estimator_doc_link:hover {\n",
       "  /* unfitted */\n",
       "  background-color: var(--sklearn-color-unfitted-level-3);\n",
       "  color: var(--sklearn-color-background);\n",
       "  text-decoration: none;\n",
       "}\n",
       "\n",
       "#sk-container-id-1 a.estimator_doc_link.fitted:hover {\n",
       "  /* fitted */\n",
       "  background-color: var(--sklearn-color-fitted-level-3);\n",
       "}\n",
       "</style><div id=\"sk-container-id-1\" class=\"sk-top-container\"><div class=\"sk-text-repr-fallback\"><pre>LinearRegression()</pre><b>In a Jupyter environment, please rerun this cell to show the HTML representation or trust the notebook. <br />On GitHub, the HTML representation is unable to render, please try loading this page with nbviewer.org.</b></div><div class=\"sk-container\" hidden><div class=\"sk-item\"><div class=\"sk-estimator fitted sk-toggleable\"><input class=\"sk-toggleable__control sk-hidden--visually\" id=\"sk-estimator-id-1\" type=\"checkbox\" checked><label for=\"sk-estimator-id-1\" class=\"sk-toggleable__label fitted sk-toggleable__label-arrow\"><div><div>LinearRegression</div></div><div><a class=\"sk-estimator-doc-link fitted\" rel=\"noreferrer\" target=\"_blank\" href=\"https://scikit-learn.org/1.6/modules/generated/sklearn.linear_model.LinearRegression.html\">?<span>Documentation for LinearRegression</span></a><span class=\"sk-estimator-doc-link fitted\">i<span>Fitted</span></span></div></label><div class=\"sk-toggleable__content fitted\"><pre>LinearRegression()</pre></div> </div></div></div></div>"
      ]
     },
     "execution_count": 10,
     "metadata": {},
     "output_type": "execute_result"
    }
   ],
   "execution_count": 10
  },
  {
   "cell_type": "markdown",
   "metadata": {
    "ai_eval_tool": {
     "snippet_hash": "0e8e860f57fc7df75f236442f7206c78",
     "snippet_label": "start"
    },
    "id": "Ovm4yjiGoWEf"
   },
   "source": [
    "<!-- Внимание! Здесь находится специальная отметка. Ее нельзя удалять! Ответы на вопросы / выводы для предыдущего пункта(ов) пиши в ячейках выше! -->\n",
    "<!-- 0e8e860f57fc7df75f236442f7206c78 -->\n",
    "Посчитайте ошибку предсказания на тестовой выборке по метрикам RMSE, MAE, MAPE. Подробнее можно почитать в <a href=\"https://thetahat.ru/courses/ad/main/3/ad_linreg_sklearn\">ноутбуке</a> с занятия.\n",
    "\n",
    "*Замечание.* Если в тестовой части тоже есть \"большие\" выбросы, их стоит убрать. Наша модель не должна пытаться их предсказать (например, сбои в работе сервиса) но в то же время выбросы вносят существенный вклад в значение метрики. Особенно стоит обратить на это внимание в случае высоких значений метрик."
   ]
  },
  {
   "cell_type": "code",
   "metadata": {
    "ai_eval_tool": {
     "snippet_hash": "0e8e860f57fc7df75f236442f7206c78",
     "snippet_label": "end"
    },
    "id": "_qsXMDU7oWEf",
    "ExecuteTime": {
     "end_time": "2025-03-15T09:17:14.370732Z",
     "start_time": "2025-03-15T09:17:14.358554Z"
    }
   },
   "source": [
    "predictions = model.predict(X_days_test)\n",
    "\n",
    "scores = pd.DataFrame({\n",
    "    \"RMSE\": np.sqrt(mean_squared_error(y_days_test, predictions)),\n",
    "    \"MAE\": mean_absolute_error(y_days_test, predictions),\n",
    "    \"MAPE\": mean_absolute_percentage_error(y_days_test, predictions),\n",
    "    \"MSE\": mean_squared_error(y_days_test, predictions),\n",
    "    \"R_Squared\": r2_score(y_days_test, predictions)}, index=[0])\n",
    "\n",
    "scores"
   ],
   "outputs": [
    {
     "data": {
      "text/plain": [
       "          RMSE          MAE      MAPE           MSE  R_Squared\n",
       "0  1198.231397  1028.375855  0.306748  1.435758e+06    0.55004"
      ],
      "text/html": [
       "<div>\n",
       "<style scoped>\n",
       "    .dataframe tbody tr th:only-of-type {\n",
       "        vertical-align: middle;\n",
       "    }\n",
       "\n",
       "    .dataframe tbody tr th {\n",
       "        vertical-align: top;\n",
       "    }\n",
       "\n",
       "    .dataframe thead th {\n",
       "        text-align: right;\n",
       "    }\n",
       "</style>\n",
       "<table border=\"1\" class=\"dataframe\">\n",
       "  <thead>\n",
       "    <tr style=\"text-align: right;\">\n",
       "      <th></th>\n",
       "      <th>RMSE</th>\n",
       "      <th>MAE</th>\n",
       "      <th>MAPE</th>\n",
       "      <th>MSE</th>\n",
       "      <th>R_Squared</th>\n",
       "    </tr>\n",
       "  </thead>\n",
       "  <tbody>\n",
       "    <tr>\n",
       "      <th>0</th>\n",
       "      <td>1198.231397</td>\n",
       "      <td>1028.375855</td>\n",
       "      <td>0.306748</td>\n",
       "      <td>1.435758e+06</td>\n",
       "      <td>0.55004</td>\n",
       "    </tr>\n",
       "  </tbody>\n",
       "</table>\n",
       "</div>"
      ]
     },
     "execution_count": 11,
     "metadata": {},
     "output_type": "execute_result"
    }
   ],
   "execution_count": 11
  },
  {
   "cell_type": "markdown",
   "metadata": {
    "ai_eval_tool": {
     "snippet_hash": "82920a034ed2865f8a7e2f03eaabceb6",
     "snippet_label": "start"
    },
    "id": "_Bz_2sX5oWEf"
   },
   "source": [
    "<!-- Внимание! Здесь находится специальная отметка. Ее нельзя удалять! Ответы на вопросы / выводы для предыдущего пункта(ов) пиши в ячейках выше! -->\n",
    "<!-- 82920a034ed2865f8a7e2f03eaabceb6 -->\n",
    "Попробуйте посчитать оценку коэффициентов с помощью формулы, полученной на занятии. Не забудьте про константный признак. В чем заключается проблема?\n",
    "\n",
    "*Подсказка.* Подумайте о зависимостях между признаками. Причем, возможно, вы уже могли решить эту проблему на предыдущих этапах. В таком случае посмотрите, что будет, если \"вернуть\" проблему."
   ]
  },
  {
   "metadata": {
    "ExecuteTime": {
     "end_time": "2025-03-15T09:26:22.224223Z",
     "start_time": "2025-03-15T09:26:22.215221Z"
    }
   },
   "cell_type": "code",
   "source": [
    "X_train, X_test, y_train, y_test = np.array(X_days_train), np.array(X_days_test), np.array(y_days_train), np.array(y_days_test)\n",
    "X_copy = np.full((X_train.shape[0], X_train.shape[1] + 1), fill_value=1.0) # добавляем биас\n",
    "X_copy[:, :-1] = X_train\n",
    "thetahat = np.linalg.inv(X_copy.T @ X_copy) @ X_copy.T @ y_train\n",
    "X_copy_test = np.full((X_test.shape[0], X_test.shape[1] + 1), fill_value=1.0)\n",
    "X_copy_test[:, :-1] = X_test\n",
    "predictions = X_copy_test @ thetahat\n",
    "\n",
    "scores = pd.DataFrame({\n",
    "    \"RMSE\": np.sqrt(mean_squared_error(y_days_test, predictions)),\n",
    "    \"MAE\": mean_absolute_error(y_days_test, predictions),\n",
    "    \"MAPE\": mean_absolute_percentage_error(y_days_test, predictions),\n",
    "    \"R_Squared\": r2_score(y_days_test, predictions)}, index=[0])\n",
    "\n",
    "scores"
   ],
   "outputs": [
    {
     "data": {
      "text/plain": [
       "          RMSE         MAE      MAPE  R_Squared\n",
       "0  1244.997766  1053.09448  0.329718   0.514231"
      ],
      "text/html": [
       "<div>\n",
       "<style scoped>\n",
       "    .dataframe tbody tr th:only-of-type {\n",
       "        vertical-align: middle;\n",
       "    }\n",
       "\n",
       "    .dataframe tbody tr th {\n",
       "        vertical-align: top;\n",
       "    }\n",
       "\n",
       "    .dataframe thead th {\n",
       "        text-align: right;\n",
       "    }\n",
       "</style>\n",
       "<table border=\"1\" class=\"dataframe\">\n",
       "  <thead>\n",
       "    <tr style=\"text-align: right;\">\n",
       "      <th></th>\n",
       "      <th>RMSE</th>\n",
       "      <th>MAE</th>\n",
       "      <th>MAPE</th>\n",
       "      <th>R_Squared</th>\n",
       "    </tr>\n",
       "  </thead>\n",
       "  <tbody>\n",
       "    <tr>\n",
       "      <th>0</th>\n",
       "      <td>1244.997766</td>\n",
       "      <td>1053.09448</td>\n",
       "      <td>0.329718</td>\n",
       "      <td>0.514231</td>\n",
       "    </tr>\n",
       "  </tbody>\n",
       "</table>\n",
       "</div>"
      ]
     },
     "execution_count": 34,
     "metadata": {},
     "output_type": "execute_result"
    }
   ],
   "execution_count": 34
  },
  {
   "cell_type": "markdown",
   "metadata": {
    "ai_eval_tool": {
     "snippet_hash": "82920a034ed2865f8a7e2f03eaabceb6",
     "snippet_label": "end"
    },
    "id": "fooG35mpoWEf"
   },
   "source": "У меня проблема не возникает. Мне очевидно, что подразумевал автор: если некоторые признаки сильно линейно зависимы, то обратная матрица будет с огромными значениями (там же происходит деление на детерминант, по формуле Кронекера, а детерминант околонулевой). Для этого есть множество различных регуляризаций, но мне ничего не понадобилось: все работает не плохо и без них. "
  },
  {
   "cell_type": "markdown",
   "metadata": {
    "ai_eval_tool": {
     "snippet_hash": "56aff27d604dbe90dda7b28a8da4e2e9",
     "snippet_label": "start"
    },
    "id": "8zXL8x-JoWEg"
   },
   "source": [
    "<!-- Внимание! Здесь находится специальная отметка. Ее нельзя удалять! Ответы на вопросы / выводы для предыдущего пункта(ов) пиши в ячейках выше! -->\n",
    "<!-- 56aff27d604dbe90dda7b28a8da4e2e9 -->\n",
    "Исправьте эту проблему, посчитайте оценки коэффициентов, а также ошибку предсказания."
   ]
  },
  {
   "cell_type": "code",
   "metadata": {
    "ai_eval_tool": {
     "snippet_hash": "56aff27d604dbe90dda7b28a8da4e2e9",
     "snippet_label": "end"
    },
    "id": "muQCyj8XoWEg",
    "ExecuteTime": {
     "end_time": "2025-03-15T09:17:14.617666Z",
     "start_time": "2025-03-15T09:17:14.609147Z"
    }
   },
   "source": [
    "X_days_train.drop(['season', 'weathersit'], axis=1, inplace=True)\n",
    "X_days_test.drop(['season', 'weathersit'], axis=1, inplace=True)\n",
    "\n",
    "X_train, X_test, y_train, y_test = np.array(X_days_train), np.array(X_days_test), np.array(y_days_train), np.array(y_days_test)\n",
    "thetahat = np.linalg.inv(X_train.T @ X_train) @ X_train.T @ y_train\n",
    "predictions = X_test @ thetahat\n",
    "\n",
    "scores = pd.DataFrame({\n",
    "    \"RMSE\": np.sqrt(mean_squared_error(y_days_test, predictions)),\n",
    "    \"MAE\": mean_absolute_error(y_days_test, predictions),\n",
    "    \"MAPE\": mean_absolute_percentage_error(y_days_test, predictions),\n",
    "    \"R_Squared\": r2_score(y_days_test, predictions)}, index=[0])\n",
    "\n",
    "scores"
   ],
   "outputs": [
    {
     "data": {
      "text/plain": [
       "          RMSE          MAE      MAPE  R_Squared\n",
       "0  1295.137496  1089.898707  0.322235   0.474317"
      ],
      "text/html": [
       "<div>\n",
       "<style scoped>\n",
       "    .dataframe tbody tr th:only-of-type {\n",
       "        vertical-align: middle;\n",
       "    }\n",
       "\n",
       "    .dataframe tbody tr th {\n",
       "        vertical-align: top;\n",
       "    }\n",
       "\n",
       "    .dataframe thead th {\n",
       "        text-align: right;\n",
       "    }\n",
       "</style>\n",
       "<table border=\"1\" class=\"dataframe\">\n",
       "  <thead>\n",
       "    <tr style=\"text-align: right;\">\n",
       "      <th></th>\n",
       "      <th>RMSE</th>\n",
       "      <th>MAE</th>\n",
       "      <th>MAPE</th>\n",
       "      <th>R_Squared</th>\n",
       "    </tr>\n",
       "  </thead>\n",
       "  <tbody>\n",
       "    <tr>\n",
       "      <th>0</th>\n",
       "      <td>1295.137496</td>\n",
       "      <td>1089.898707</td>\n",
       "      <td>0.322235</td>\n",
       "      <td>0.474317</td>\n",
       "    </tr>\n",
       "  </tbody>\n",
       "</table>\n",
       "</div>"
      ]
     },
     "execution_count": 13,
     "metadata": {},
     "output_type": "execute_result"
    }
   ],
   "execution_count": 13
  },
  {
   "cell_type": "markdown",
   "metadata": {
    "ai_eval_tool": {
     "snippet_hash": "52266029600cdfda3b1cfce9e68f5c99",
     "snippet_label": "start"
    },
    "id": "P9N3n2GAoWEg"
   },
   "source": [
    "<!-- Внимание! Здесь находится специальная отметка. Ее нельзя удалять! Ответы на вопросы / выводы для предыдущего пункта(ов) пиши в ячейках выше! -->\n",
    "<!-- 52266029600cdfda3b1cfce9e68f5c99 -->\n",
    "Сделайте выводы. А какие выводы? при дропе признаков, которые, кажутся, могут иметь линейную зависимость (очевидно, сезон и время года, (скорость ветра, температура) и качество погоды, (влажность, температура, скорость ветра) и ощущаемая температура и так далее, точность только уменьшается. Я не понимаю, чего от меня хотели"
   ]
  },
  {
   "cell_type": "markdown",
   "metadata": {
    "ai_eval_tool": {
     "snippet_hash": "52266029600cdfda3b1cfce9e68f5c99",
     "snippet_label": "end"
    },
    "id": "Sx5n7fdNoWEg"
   },
   "source": [
    "**Выводы:**\n",
    "\n",
    "В принципе, точность достаточно печальная, и такая модель практически ни на что не годиться, лучше предсказывать, думая своей головой. Она сильно ошибается в среднем и никак не сможет предсказать, скажем, мероприятия, потому что, как минимум, их нет в датасете. Если кратко, такая модель не пригодна для проды. \n"
   ]
  },
  {
   "cell_type": "markdown",
   "metadata": {
    "id": "eDX7nVIuoWEg"
   },
   "source": [
    "<!-- Внимание! Здесь находится специальная отметка. Ее нельзя удалять! Ответы на вопросы / выводы для предыдущего пункта(ов) пиши в ячейках выше! -->\n",
    "<!-- 00000000000000000000000000000000 -->\n",
    "*Замечание.* Не расстраивайтесь, если у вас получится не очень хорошее качество, это нормально. Вы провели только небольшую предобработку данных и обучили *простую* модель. Более сложные методы обработки данных и обучения ждут вас впереди. Главное &mdash; с чего-то начать!\n",
    "\n",
    "<img src=\"https://thetahat.ru/files/ad/main/3/bike2.png\">"
   ]
  },
  {
   "cell_type": "markdown",
   "metadata": {
    "ai_eval_tool": {
     "snippet_hash": "2c0205cf5ab3ec02c6ea667faa01e48b",
     "snippet_label": "start"
    },
    "id": "-jym5lqSqxha"
   },
   "source": [
    "<!-- Внимание! Здесь находится специальная отметка. Ее нельзя удалять! Ответы на вопросы / выводы для предыдущего пункта(ов) пиши в ячейках выше! -->\n",
    "<!-- 2c0205cf5ab3ec02c6ea667faa01e48b -->\n",
    "---\n",
    "### Задача 3."
   ]
  },
  {
   "cell_type": "markdown",
   "metadata": {
    "id": "iI8OJHhiqRhk"
   },
   "source": [
    "*Перед выполнением задачи ознакомтесь с <a href=\"https://thetahat.ru/courses/ad/main/3/ad_logreg_sklearn\">ноутбуком по логистической регрессии</a> с занятия.*\n",
    "\n",
    "> Одно из интересных свойств модели логистической регрессии — *при соблюдении её предположений* она дает возможность получать **несмещенные оценки вероятностей** принадлежности объекта к определенному классу.  \n",
    "> Для пояснения рассмотрим объект $x$ и соответствующее предсказание вероятности $\\widehat{p}(x)$ для класса 1. Если взять небольшую окрестность объекта $x$, то доля объектов класса 1 в этой окрестности будет приблизительно равна $\\widehat{p}(x)$.  \n",
    "\n",
    "Далее проверим это свойство на конкретных примерах.\n",
    "\n",
    "С помощью кода ниже сгенерируйте данные, состоящие из одного вещественного признака и бинарного таргета."
   ]
  },
  {
   "cell_type": "code",
   "metadata": {
    "id": "JwYNbh68qKFx",
    "ExecuteTime": {
     "end_time": "2025-03-15T09:17:14.886271Z",
     "start_time": "2025-03-15T09:17:14.735530Z"
    }
   },
   "source": [
    "sample_size = 3000  # Размер выборки\n",
    "\n",
    "# Признаки\n",
    "X = np.random.uniform(low=-4, high=4, size=(sample_size, 1))\n",
    "\n",
    "# Таргет\n",
    "y_mean_true = 1 / (1 + np.exp(1 - 2 * X.ravel()))\n",
    "y = np.random.binomial(n=1, p=y_mean_true)\n",
    "\n",
    "plt.figure(figsize=(10, 3))\n",
    "plt.scatter(X, y_mean_true, marker=\".\", s=1, label=\"Реальные вероятности\\n(мы их не знаем)\")\n",
    "plt.scatter(X, y, marker=\"|\", alpha=0.1, label=\"Данные\")\n",
    "plt.xlabel(\"Признак\")\n",
    "plt.ylabel(\"Класс объекта\")\n",
    "plt.legend();"
   ],
   "outputs": [
    {
     "data": {
      "text/plain": [
       "<Figure size 1000x300 with 1 Axes>"
      ],
      "image/png": "[encoded data removed]"
     },
     "metadata": {},
     "output_type": "display_data"
    }
   ],
   "execution_count": 14
  },
  {
   "cell_type": "markdown",
   "metadata": {
    "id": "SuGffKQWqTgP"
   },
   "source": [
    "Обучите логистическую регрессию, используя реализацию из `sklearn`, при этом свободный коэффициент должен присутствовать в модели. Укажите также `penalty='none'`."
   ]
  },
  {
   "cell_type": "code",
   "metadata": {
    "id": "bYEdWOT2qW2J",
    "ExecuteTime": {
     "end_time": "2025-03-15T09:34:21.154642Z",
     "start_time": "2025-03-15T09:34:21.150216Z"
    }
   },
   "source": [
    "model = LogisticRegression()\n",
    "model.fit(X, y);"
   ],
   "outputs": [],
   "execution_count": 36
  },
  {
   "cell_type": "markdown",
   "metadata": {
    "id": "H80yPQ1cqY7P"
   },
   "source": [
    "Напечатайте оценку коэффициентов"
   ]
  },
  {
   "cell_type": "code",
   "metadata": {
    "id": "VZ4itf7UqapC",
    "ExecuteTime": {
     "end_time": "2025-03-15T09:17:14.995537Z",
     "start_time": "2025-03-15T09:17:14.991538Z"
    }
   },
   "source": [
    "print(\"Коэффициенты:\", model.coef_)\n",
    "print(\"Свободный член:\", model.intercept_)"
   ],
   "outputs": [
    {
     "name": "stdout",
     "output_type": "stream",
     "text": [
      "Коэффициенты: [[2.02895714]]\n",
      "Свободный член: [-0.97928916]\n"
     ]
    }
   ],
   "execution_count": 16
  },
  {
   "cell_type": "markdown",
   "metadata": {
    "id": "7lZwMvaNqbvL"
   },
   "source": [
    "Ниже объявлена сетка значений признака. По этой сетке постройте\n",
    "* предсказания классов,\n",
    "* предсказания вероятностей класса 1.\n",
    "\n",
    "Визуализируйте эти предсказания. На график стоит нанести также обучающую выборку."
   ]
  },
  {
   "cell_type": "code",
   "metadata": {
    "id": "-689880DqdON",
    "ExecuteTime": {
     "end_time": "2025-03-15T09:17:15.052511Z",
     "start_time": "2025-03-15T09:17:15.048511Z"
    }
   },
   "source": [
    "X_grid = np.linspace(-4, 4, 10000).reshape((-1, 1))\n",
    "model.predict(X_grid)"
   ],
   "outputs": [
    {
     "data": {
      "text/plain": [
       "array([0, 0, 0, ..., 1, 1, 1])"
      ]
     },
     "execution_count": 17,
     "metadata": {},
     "output_type": "execute_result"
    }
   ],
   "execution_count": 17
  },
  {
   "cell_type": "markdown",
   "metadata": {
    "id": "iMJx4bblqevG"
   },
   "source": [
    "Разбейте отрезок $[-4, 4]$ на одинаковые бины длины длины 0.2 и посчитайте в каждом бине долю объектов класса 1. Полученные значения добавьте на график предсказаний вероятностей и сравните эти графики. Проинтерпретируйте полученные результаты.\n",
    "\n",
    "*Подсказка:* может помочь `np.digitize` и метод `groupby` для таблиц `pandas`. Рекомендуем посмотреть <a href=\"https://thetahat.ru/courses/python\">обучающие ноутбуки</a> по библиотекам."
   ]
  },
  {
   "cell_type": "code",
   "metadata": {
    "id": "hSKK8i7cqnpR",
    "ExecuteTime": {
     "end_time": "2025-03-15T09:17:15.290425Z",
     "start_time": "2025-03-15T09:17:15.109479Z"
    }
   },
   "source": [
    "y_proba = model.predict_proba(X_grid)[:, 1]\n",
    "\n",
    "# Разобьём признак X на бины шириной 0.2\n",
    "bin_edges = np.arange(-4, 4.2, 0.2)\n",
    "df = pd.DataFrame({\"X\": X.ravel(), \"y\": y})\n",
    "df[\"bin\"] = np.digitize(df[\"X\"], bin_edges)\n",
    "\n",
    "bin_stats = df.groupby(\"bin\")[\"y\"].mean().reset_index()\n",
    "\n",
    "bin_centers = []\n",
    "for b in bin_stats[\"bin\"]:\n",
    "    left_edge = bin_edges[b - 1]\n",
    "    right_edge = bin_edges[b]\n",
    "    bin_centers.append((left_edge + right_edge) / 2)\n",
    "bin_stats[\"center\"] = bin_centers\n",
    "\n",
    "plt.figure(figsize=(8, 4))\n",
    "\n",
    "plt.plot(X_grid, y_proba, color='green', label='Предсказанная вероятность')\n",
    "plt.scatter(bin_stats[\"center\"], bin_stats[\"y\"], color='red', s=30,\n",
    "            alpha=0.8, label='Доля класса 1 по бинам')\n",
    "plt.scatter(X, y * 0.02, color='blue', alpha=0.1, marker='|',\n",
    "            label='Сырые точки (y=0 или y=1)')\n",
    "\n",
    "plt.xlabel(\"Признак X\")\n",
    "plt.ylabel(\"Вероятность / доля класса 1\")\n",
    "plt.grid(True)\n",
    "plt.legend()\n",
    "plt.show()"
   ],
   "outputs": [
    {
     "data": {
      "text/plain": [
       "<Figure size 800x400 with 1 Axes>"
      ],
      "image/png": "[encoded data removed]"
     },
     "metadata": {},
     "output_type": "display_data"
    }
   ],
   "execution_count": 18
  },
  {
   "cell_type": "markdown",
   "metadata": {
    "id": "uo-f83HMqn4y"
   },
   "source": [
    "Повторите проведенное исследование для следующих данных и сравните результаты."
   ]
  },
  {
   "cell_type": "code",
   "metadata": {
    "id": "5ajXblBRqgpJ",
    "ExecuteTime": {
     "end_time": "2025-03-15T09:50:42.771368Z",
     "start_time": "2025-03-15T09:50:42.678725Z"
    }
   },
   "source": [
    "X = np.random.uniform(low=-4, high=4, size=(sample_size, 1))\n",
    "\n",
    "y_mean_true = 1 / (1 + np.exp(-100 * X.ravel()))\n",
    "y = np.random.binomial(n=1, p=y_mean_true)\n",
    "\n",
    "model = LogisticRegression()\n",
    "model.fit(X, y)\n",
    "\n",
    "print(\"Коэффициенты:\", model.coef_)\n",
    "print(\"Свободный член:\", model.intercept_)\n",
    "\n",
    "X_grid = np.linspace(-4, 4, 200).reshape(-1, 1)\n",
    "y_prob = model.predict_proba(X_grid)[:, 1]\n",
    "\n",
    "# Истинная вероятность на сетке\n",
    "y_prob_true = 1 / (1 + np.exp(-100 * X_grid.ravel()))\n",
    "\n",
    "df = pd.DataFrame({'X': X.ravel(), 'y': y})\n",
    "bin_edges = np.linspace(-4, 4, 10)   # 9 интервалов\n",
    "df['bin'] = np.digitize(df['X'], bin_edges)\n",
    "\n",
    "bin_stats = df.groupby('bin')['y'].mean().reset_index()\n",
    "\n",
    "def bin_center(b):\n",
    "    if 1 <= b < len(bin_edges):\n",
    "        left_edge = bin_edges[b - 1]\n",
    "        right_edge = bin_edges[b]\n",
    "        return 0.5 * (left_edge + right_edge)\n",
    "    else:\n",
    "        return np.nan\n",
    "\n",
    "bin_stats['center'] = bin_stats['bin'].apply(bin_center)\n",
    "bin_stats = bin_stats.dropna()\n",
    "\n",
    "plt.figure(figsize=(8,5))\n",
    "\n",
    "plt.plot(X_grid, y_prob_true, 'b--', label='Истинная вероятность')\n",
    "\n",
    "plt.plot(X_grid, y_prob, 'g', label='Предсказанная моделью')\n",
    "\n",
    "plt.scatter(bin_stats['center'], bin_stats['y'],\n",
    "            color='red', s=40, alpha=1.0, marker='o',\n",
    "            label='Средняя доля класса 1 в бине')\n",
    "\n",
    "plt.title('Логистическая регрессия: p(x) = σ(-100x)')\n",
    "plt.xlabel('Признак X')\n",
    "plt.ylabel('Вероятность класса 1')\n",
    "plt.grid(True)\n",
    "plt.legend()\n",
    "plt.show()"
   ],
   "outputs": [
    {
     "name": "stdout",
     "output_type": "stream",
     "text": [
      "Коэффициенты: [[8.28019689]]\n",
      "Свободный член: [0.04428001]\n"
     ]
    },
    {
     "data": {
      "text/plain": [
       "<Figure size 800x500 with 1 Axes>"
      ],
      "image/png": "[encoded data removed]"
     },
     "metadata": {},
     "output_type": "display_data"
    }
   ],
   "execution_count": 49
  },
  {
   "cell_type": "markdown",
   "metadata": {
    "ai_eval_tool": {
     "snippet_hash": "2c0205cf5ab3ec02c6ea667faa01e48b",
     "snippet_label": "end"
    },
    "id": "BN1dDhhtqq-j"
   },
   "source": [
    "**Выводы:**\n",
    "\n",
    "Логистическая регрессия хорошо восстанавливает «истинные» параметры, когда в данных есть достаточно точек в области перехода сигмоиды от 0 к 1 (иначе говоря, когда признак \n",
    "x покрывает интервал, где функция вероятности существенно меняется).\n",
    "Если «настоящая» сигмоида сдвинута так, что на всём доступном диапазоне x вероятность почти 0 (или почти 1), регрессия не может адекватно оценить наклон и сдвиг — данные просто не содержат нужной вариации. В итоге модель «видит» почти одни нули (или единицы) и даёт практически константный прогноз."
   ]
  },
  {
   "cell_type": "markdown",
   "metadata": {
    "id": "lnh_fbggq0db"
   },
   "source": [
    "---\n",
    "### Задача 4."
   ]
  },
  {
   "cell_type": "markdown",
   "metadata": {
    "ai_eval_tool": {
     "snippet_hash": "f92a2876d3f2b0d01fc396776be023a9",
     "snippet_label": "start"
    },
    "id": "ZojQJLc8q9D9"
   },
   "source": [
    "<!-- Внимание! Здесь находится специальная отметка. Ее нельзя удалять! Ответы на вопросы / выводы для предыдущего пункта(ов) пиши в ячейках выше! -->\n",
    "<!-- f92a2876d3f2b0d01fc396776be023a9 -->\n",
    "Продолжим исследовать модель логистической регрессии. Сгенерируем данные, состоящие из двух бинарных признаков и бинарного таргета"
   ]
  },
  {
   "cell_type": "code",
   "metadata": {
    "id": "5-NC9xytq2kR",
    "ExecuteTime": {
     "end_time": "2025-03-15T09:17:15.467596Z",
     "start_time": "2025-03-15T09:17:15.460931Z"
    }
   },
   "source": [
    "probs = np.random.uniform(size=8)\n",
    "probs /= probs.sum()\n",
    "probs\n",
    "\n",
    "x = np.random.choice(np.arange(8), p=probs, size=10000)\n",
    "data = pd.DataFrame(\n",
    "    np.unpackbits(np.array(x.reshape(-1, 1), dtype=\">i8\").view(np.uint8), axis=1)[:, -3:],\n",
    "    columns=[\"feature_1\", \"feature_2\", \"target\"],\n",
    ")\n",
    "data.head()"
   ],
   "outputs": [
    {
     "data": {
      "text/plain": [
       "   feature_1  feature_2  target\n",
       "0          1          1       1\n",
       "1          1          0       0\n",
       "2          1          0       0\n",
       "3          0          0       0\n",
       "4          1          1       0"
      ],
      "text/html": [
       "<div>\n",
       "<style scoped>\n",
       "    .dataframe tbody tr th:only-of-type {\n",
       "        vertical-align: middle;\n",
       "    }\n",
       "\n",
       "    .dataframe tbody tr th {\n",
       "        vertical-align: top;\n",
       "    }\n",
       "\n",
       "    .dataframe thead th {\n",
       "        text-align: right;\n",
       "    }\n",
       "</style>\n",
       "<table border=\"1\" class=\"dataframe\">\n",
       "  <thead>\n",
       "    <tr style=\"text-align: right;\">\n",
       "      <th></th>\n",
       "      <th>feature_1</th>\n",
       "      <th>feature_2</th>\n",
       "      <th>target</th>\n",
       "    </tr>\n",
       "  </thead>\n",
       "  <tbody>\n",
       "    <tr>\n",
       "      <th>0</th>\n",
       "      <td>1</td>\n",
       "      <td>1</td>\n",
       "      <td>1</td>\n",
       "    </tr>\n",
       "    <tr>\n",
       "      <th>1</th>\n",
       "      <td>1</td>\n",
       "      <td>0</td>\n",
       "      <td>0</td>\n",
       "    </tr>\n",
       "    <tr>\n",
       "      <th>2</th>\n",
       "      <td>1</td>\n",
       "      <td>0</td>\n",
       "      <td>0</td>\n",
       "    </tr>\n",
       "    <tr>\n",
       "      <th>3</th>\n",
       "      <td>0</td>\n",
       "      <td>0</td>\n",
       "      <td>0</td>\n",
       "    </tr>\n",
       "    <tr>\n",
       "      <th>4</th>\n",
       "      <td>1</td>\n",
       "      <td>1</td>\n",
       "      <td>0</td>\n",
       "    </tr>\n",
       "  </tbody>\n",
       "</table>\n",
       "</div>"
      ]
     },
     "execution_count": 20,
     "metadata": {},
     "output_type": "execute_result"
    }
   ],
   "execution_count": 20
  },
  {
   "cell_type": "markdown",
   "metadata": {
    "id": "cZe7L0Quq_Aa"
   },
   "source": [
    "Особенность таких данных &mdash; конечное число *возможных различных* объектов. В данном случае их всего 4, по количеству всех возможных комбинаций значений признака. Соответственно, любой моделью мы можем сделать только 4 *различных* предсказания. Исследуем, как с этим справляется логистическая регрессия.\n",
    "\n",
    "Сначала для сравнения посчитайте долю класса 1 для каждой категории объектов.\n",
    "\n",
    "*Подсказка:* используйте `pd.pivot_table`. Рекомендуем посмотреть <a href=\"https://thetahat.ru/courses/python\">обучающие ноутбуки</a> по библиотекам."
   ]
  },
  {
   "cell_type": "code",
   "metadata": {
    "ai_eval_tool": {
     "snippet_hash": "f92a2876d3f2b0d01fc396776be023a9",
     "snippet_label": "end"
    },
    "id": "cG1DiCRkrAUR",
    "ExecuteTime": {
     "end_time": "2025-03-15T10:18:48.116486Z",
     "start_time": "2025-03-15T10:18:48.105481Z"
    }
   },
   "source": [
    "pivot_result = pd.pivot_table(\n",
    "    data,\n",
    "    values='target',    \n",
    "    index='feature_1',  \n",
    "    columns='feature_2',\n",
    "    aggfunc='mean'      \n",
    ")\n",
    "\n",
    "pivot_result"
   ],
   "outputs": [
    {
     "data": {
      "text/plain": [
       "feature_2         0         1\n",
       "feature_1                    \n",
       "0          0.337766  0.688647\n",
       "1          0.041553  0.361217"
      ],
      "text/html": [
       "<div>\n",
       "<style scoped>\n",
       "    .dataframe tbody tr th:only-of-type {\n",
       "        vertical-align: middle;\n",
       "    }\n",
       "\n",
       "    .dataframe tbody tr th {\n",
       "        vertical-align: top;\n",
       "    }\n",
       "\n",
       "    .dataframe thead th {\n",
       "        text-align: right;\n",
       "    }\n",
       "</style>\n",
       "<table border=\"1\" class=\"dataframe\">\n",
       "  <thead>\n",
       "    <tr style=\"text-align: right;\">\n",
       "      <th>feature_2</th>\n",
       "      <th>0</th>\n",
       "      <th>1</th>\n",
       "    </tr>\n",
       "    <tr>\n",
       "      <th>feature_1</th>\n",
       "      <th></th>\n",
       "      <th></th>\n",
       "    </tr>\n",
       "  </thead>\n",
       "  <tbody>\n",
       "    <tr>\n",
       "      <th>0</th>\n",
       "      <td>0.337766</td>\n",
       "      <td>0.688647</td>\n",
       "    </tr>\n",
       "    <tr>\n",
       "      <th>1</th>\n",
       "      <td>0.041553</td>\n",
       "      <td>0.361217</td>\n",
       "    </tr>\n",
       "  </tbody>\n",
       "</table>\n",
       "</div>"
      ]
     },
     "execution_count": 60,
     "metadata": {},
     "output_type": "execute_result"
    }
   ],
   "execution_count": 60
  },
  {
   "cell_type": "markdown",
   "metadata": {
    "ai_eval_tool": {
     "snippet_hash": "14e68d57d58f901b3350e63f76b9f8db",
     "snippet_label": "start"
    },
    "id": "7zN9tKwxrB9E"
   },
   "source": [
    "<!-- Внимание! Здесь находится специальная отметка. Ее нельзя удалять! Ответы на вопросы / выводы для предыдущего пункта(ов) пиши в ячейках выше! -->\n",
    "<!-- 14e68d57d58f901b3350e63f76b9f8db -->\n",
    "Обучите логистическую регрессию с `penalty='none'` и получите предсказания вероятностей для этих четырех типов объектов. Представьте результаты в таком виде, чтобы их удобно было сравнивать с частотами, посчитанными ранее."
   ]
  },
  {
   "cell_type": "code",
   "metadata": {
    "ai_eval_tool": {
     "snippet_hash": "14e68d57d58f901b3350e63f76b9f8db",
     "snippet_label": "end"
    },
    "id": "jeOIdQZtrCLA",
    "ExecuteTime": {
     "end_time": "2025-03-15T10:21:50.603350Z",
     "start_time": "2025-03-15T10:21:50.591136Z"
    }
   },
   "source": [
    "empirical = pd.pivot_table(\n",
    "    data,\n",
    "    values='target',\n",
    "    index='feature_1',\n",
    "    columns='feature_2',\n",
    "    aggfunc='mean'\n",
    ")\n",
    "print(\"Эмпирические частоты для каждой комбинации:\")\n",
    "print(empirical)\n",
    "\n",
    "X = data[['feature_1', 'feature_2']]\n",
    "y = data['target']\n",
    "\n",
    "model = LogisticRegression(penalty=None, solver='lbfgs')\n",
    "model.fit(X, y)\n",
    "\n",
    "combinations = pd.DataFrame({\n",
    "    'feature_1': [0, 0, 1, 1],\n",
    "    'feature_2': [0, 1, 0, 1]\n",
    "})\n",
    "\n",
    "combinations['pred_prob'] = model.predict_proba(combinations)[:, 1]\n",
    "\n",
    "predicted = combinations.pivot(index='feature_1', columns='feature_2', values='pred_prob')\n",
    "print(\"\\nПредсказанные вероятности модели:\")\n",
    "print(predicted)"
   ],
   "outputs": [
    {
     "name": "stdout",
     "output_type": "stream",
     "text": [
      "Эмпирические частоты для каждой комбинации:\n",
      "feature_2         0         1\n",
      "feature_1                    \n",
      "0          0.337766  0.688647\n",
      "1          0.041553  0.361217\n",
      "\n",
      "Предсказанные вероятности модели:\n",
      "feature_2         0         1\n",
      "feature_1                    \n",
      "0          0.314243  0.729188\n",
      "1          0.080724  0.340360\n"
     ]
    }
   ],
   "execution_count": 62
  },
  {
   "cell_type": "markdown",
   "metadata": {
    "ai_eval_tool": {
     "snippet_hash": "1b868a951c9dec0be47540d5316f7e9f",
     "snippet_label": "start"
    },
    "id": "8D8fNLDprDrK"
   },
   "source": [
    "<!-- Внимание! Здесь находится специальная отметка. Ее нельзя удалять! Ответы на вопросы / выводы для предыдущего пункта(ов) пиши в ячейках выше! -->\n",
    "<!-- 1b868a951c9dec0be47540d5316f7e9f -->\n",
    "Почему результаты не совпадают?\n",
    "\n",
    "Для ответа на этот вопрос распишите формулу, которая задает модель логистической регрессии, указав все параметры. Какое предположение о данных при этом делает логистическая регрессия?"
   ]
  },
  {
   "cell_type": "markdown",
   "metadata": {
    "ai_eval_tool": {
     "snippet_hash": "1b868a951c9dec0be47540d5316f7e9f",
     "snippet_label": "end"
    }
   },
   "source": [
    "Логистическая регрессия строит модель вида\n",
    "\n",
    "$$\n",
    "p(y=1\\mid x)=\\frac{1}{1+\\exp\\bigl(-(\\beta_0+\\beta_1x_1+\\beta_2x_2)\\bigr)},\n",
    "$$\n",
    "\n",
    "что эквивалентно записи\n",
    "\n",
    "$$\n",
    "\\log\\frac{p(y=1\\mid x)}{1-p(y=1\\mid x)}=\\beta_0+\\beta_1x_1+\\beta_2x_2.\n",
    "$$\n",
    "\n",
    "Модель предполагает, что логарифм отношения шансов линейно зависит от признаков. Эмпирические частоты для каждой комбинации рассчитываются напрямую и могут не вписываться в такую линейную структуру, поэтому предсказания модели отличаются от наблюдаемых долей.\n"
   ]
  },
  {
   "cell_type": "markdown",
   "metadata": {
    "ai_eval_tool": {
     "snippet_hash": "1180c36f8ac39574c944b19ddee07271",
     "snippet_label": "start"
    },
    "id": "SEzIE7sprFlH"
   },
   "source": [
    "<!-- Внимание! Здесь находится специальная отметка. Ее нельзя удалять! Ответы на вопросы / выводы для предыдущего пункта(ов) пиши в ячейках выше! -->\n",
    "<!-- 1180c36f8ac39574c944b19ddee07271 -->\n",
    "Предложите и реализуйте способ построения модели логистической регрессии так, чтобы она точнее предсказывала частоты, посчитанные ранее."
   ]
  },
  {
   "cell_type": "markdown",
   "metadata": {},
   "source": [
    "Опишите ваше предложение:\n",
    "\n",
    "Просто преобразовать пару бинарных признаков в единую категориальную переменную с 4‑ю уровнями (соответствующими всем возможным комбинациям), а затем применить one‑hot кодирование этой переменной. При обучении такая модель максимально точно воспроизводит наблюдаемые частоты."
   ]
  },
  {
   "cell_type": "markdown",
   "metadata": {},
   "source": [
    "Реализация:"
   ]
  },
  {
   "cell_type": "code",
   "metadata": {
    "ai_eval_tool": {
     "snippet_hash": "1180c36f8ac39574c944b19ddee07271",
     "snippet_label": "end"
    },
    "id": "nDyfSHDirD-w",
    "ExecuteTime": {
     "end_time": "2025-03-15T10:27:06.410179Z",
     "start_time": "2025-03-15T10:27:06.395177Z"
    }
   },
   "source": [
    "data['group'] = data['feature_1'].astype(str) + '_' + data['feature_2'].astype(str)\n",
    "\n",
    "X_dummy = pd.get_dummies(data['group'], drop_first=True)\n",
    "y = data['target']\n",
    "\n",
    "model_dummy = LogisticRegression(penalty=None, solver='lbfgs')\n",
    "model_dummy.fit(X_dummy, y)\n",
    "\n",
    "groups = pd.DataFrame({'group': ['0_0', '0_1', '1_0', '1_1']})\n",
    "X_groups = pd.get_dummies(groups['group'], drop_first=True)\n",
    "\n",
    "for col in X_dummy.columns:\n",
    "    if col not in X_groups.columns:\n",
    "        X_groups[col] = 0\n",
    "X_groups = X_groups[X_dummy.columns]\n",
    "\n",
    "groups['pred_prob'] = model_dummy.predict_proba(X_groups)[:, 1]\n",
    "\n",
    "print(\"Предсказанные вероятности для каждой группы:\")\n",
    "print(groups)"
   ],
   "outputs": [
    {
     "name": "stdout",
     "output_type": "stream",
     "text": [
      "Предсказанные вероятности для каждой группы:\n",
      "  group  pred_prob\n",
      "0   0_0   0.337774\n",
      "1   0_1   0.688594\n",
      "2   1_0   0.041621\n",
      "3   1_1   0.361236\n"
     ]
    }
   ],
   "execution_count": 64
  },
  {
   "cell_type": "markdown",
   "metadata": {
    "ai_eval_tool": {
     "snippet_hash": "3f951c224a4ac471c658ed7755ff9521",
     "snippet_label": "end"
    },
    "id": "0Tth43N9rGHF"
   },
   "source": [
    "<!-- Внимание! Здесь находится специальная отметка. Ее нельзя удалять! Ответы на вопросы / выводы для предыдущего пункта(ов) пиши в ячейках выше! -->\n",
    "<!-- 3f951c224a4ac471c658ed7755ff9521 -->\n",
    "**Выводы:**\n",
    "\n",
    "Эмпирические частоты для 4 комбинаций признаков дают точное распределение долей класса 1.\n",
    "Стандартная логистическая регрессия с линейной зависимостью log-odds \n",
    "    $$\\log\\frac{p}{1-p}=\\beta_0+\\beta_1x_1+\\beta_2x_2$$ \n",
    "    не может точно воспроизвести эти частоты из-за ограниченности модели.\n",
    "Преобразование двух бинарных признаков в одну категориальную с последующим one-hot кодированием позволяет модели назначить отдельный параметр для каждой группы, что улучшает соответствие предсказаний эмпирическим частотам.\n"
   ]
  },
  {
   "cell_type": "markdown",
   "metadata": {},
   "source": [
    "<!-- Внимание! Здесь находится специальная отметка. Ее нельзя удалять! Ответы на вопросы / выводы для предыдущего пункта(ов) пиши в ячейках выше! -->\n",
    "<!-- 00000000000000000000000000000000 -->\n",
    "---\n",
    "### <font color=\"orange\"><i>Сложная часть</i></font>"
   ]
  },
  {
   "cell_type": "markdown",
   "metadata": {},
   "source": [
    "Задачи 5-7: скачайте второй ноутбук с условием задания со страницы курса."
   ]
  }
 ],
 "metadata": {
  "colab": {
   "provenance": [],
   "toc_visible": true
  },
  "hide_input": false,
  "kernelspec": {
   "display_name": "Python 3 (ipykernel)",
   "language": "python",
   "name": "python3"
  },
  "language_info": {
   "codemirror_mode": {
    "name": "ipython",
    "version": 3
   },
   "file_extension": ".py",
   "mimetype": "text/x-python",
   "name": "python",
   "nbconvert_exporter": "python",
   "pygments_lexer": "ipython3",
   "version": "3.12.3"
  }
 },
 "nbformat": 4,
 "nbformat_minor": 1
}
